{
 "cells": [
  {
   "cell_type": "markdown",
   "id": "4a74d0d7",
   "metadata": {},
   "source": [
    "# Grafica de vela en tiempo real"
   ]
  },
  {
   "cell_type": "code",
   "execution_count": 4,
   "id": "a8a9e7b3",
   "metadata": {},
   "outputs": [],
   "source": [
    "from config import * # Se importa API_KEY y API_SECRET"
   ]
  },
  {
   "cell_type": "code",
   "execution_count": 21,
   "id": "1270eb75",
   "metadata": {},
   "outputs": [],
   "source": [
    "import keyboard\n",
    "from binance import Client\n",
    "from binance import BinanceSocketManager"
   ]
  },
  {
   "cell_type": "code",
   "execution_count": 8,
   "id": "7ab596cc",
   "metadata": {},
   "outputs": [],
   "source": [
    "client = Client(API_KEY, API_SECRET)"
   ]
  },
  {
   "cell_type": "code",
   "execution_count": 10,
   "id": "c7dc1e83",
   "metadata": {},
   "outputs": [],
   "source": [
    "bnb = client.get_asset_balance(asset=\"BNB\") # obtenemos el balance del activo con la API"
   ]
  },
  {
   "cell_type": "code",
   "execution_count": 15,
   "id": "8ea19eda",
   "metadata": {},
   "outputs": [
    {
     "name": "stdout",
     "output_type": "stream",
     "text": [
      "Balance: {'asset': 'BNB', 'free': '0.00000000', 'locked': '0.00000000'}\n"
     ]
    }
   ],
   "source": [
    "print(\"Balance: {}\".format(bnb))"
   ]
  },
  {
   "cell_type": "code",
   "execution_count": 22,
   "id": "b2cf6ca3",
   "metadata": {},
   "outputs": [],
   "source": [
    "bm = BinanceSocketManager(client)#Conectamos con el exchange mediante socket"
   ]
  },
  {
   "cell_type": "code",
   "execution_count": 24,
   "id": "d3af47af",
   "metadata": {},
   "outputs": [
    {
     "data": {
      "text/plain": [
       "['DSTREAM_TESTNET_URL',\n",
       " 'DSTREAM_URL',\n",
       " 'FSTREAM_TESTNET_URL',\n",
       " 'FSTREAM_URL',\n",
       " 'STREAM_TESTNET_URL',\n",
       " 'STREAM_URL',\n",
       " 'VSTREAM_TESTNET_URL',\n",
       " 'VSTREAM_URL',\n",
       " 'WEBSOCKET_DEPTH_10',\n",
       " 'WEBSOCKET_DEPTH_20',\n",
       " 'WEBSOCKET_DEPTH_5',\n",
       " '__class__',\n",
       " '__delattr__',\n",
       " '__dict__',\n",
       " '__dir__',\n",
       " '__doc__',\n",
       " '__eq__',\n",
       " '__format__',\n",
       " '__ge__',\n",
       " '__getattribute__',\n",
       " '__gt__',\n",
       " '__hash__',\n",
       " '__init__',\n",
       " '__init_subclass__',\n",
       " '__le__',\n",
       " '__lt__',\n",
       " '__module__',\n",
       " '__ne__',\n",
       " '__new__',\n",
       " '__reduce__',\n",
       " '__reduce_ex__',\n",
       " '__repr__',\n",
       " '__setattr__',\n",
       " '__sizeof__',\n",
       " '__str__',\n",
       " '__subclasshook__',\n",
       " '__weakref__',\n",
       " '_client',\n",
       " '_conns',\n",
       " '_exit_socket',\n",
       " '_get_account_socket',\n",
       " '_get_futures_socket',\n",
       " '_get_options_socket',\n",
       " '_get_socket',\n",
       " '_get_stream_url',\n",
       " '_loop',\n",
       " '_stop_socket',\n",
       " '_user_timeout',\n",
       " 'aggtrade_futures_socket',\n",
       " 'aggtrade_socket',\n",
       " 'all_mark_price_socket',\n",
       " 'all_ticker_futures_socket',\n",
       " 'book_ticker_socket',\n",
       " 'coin_futures_socket',\n",
       " 'depth_socket',\n",
       " 'futures_depth_socket',\n",
       " 'futures_multiplex_socket',\n",
       " 'futures_socket',\n",
       " 'futures_user_socket',\n",
       " 'index_price_socket',\n",
       " 'individual_symbol_ticker_futures_socket',\n",
       " 'isolated_margin_socket',\n",
       " 'kline_futures_socket',\n",
       " 'kline_socket',\n",
       " 'margin_socket',\n",
       " 'miniticker_socket',\n",
       " 'multiplex_socket',\n",
       " 'options_depth_socket',\n",
       " 'options_kline_socket',\n",
       " 'options_multiplex_socket',\n",
       " 'options_recent_trades_socket',\n",
       " 'options_ticker_by_expiration_socket',\n",
       " 'options_ticker_socket',\n",
       " 'symbol_book_ticker_socket',\n",
       " 'symbol_mark_price_socket',\n",
       " 'symbol_miniticker_socket',\n",
       " 'symbol_ticker_futures_socket',\n",
       " 'symbol_ticker_socket',\n",
       " 'testnet',\n",
       " 'ticker_socket',\n",
       " 'trade_socket',\n",
       " 'user_socket']"
      ]
     },
     "execution_count": 24,
     "metadata": {},
     "output_type": "execute_result"
    }
   ],
   "source": [
    "dir(bm)"
   ]
  },
  {
   "cell_type": "code",
   "execution_count": null,
   "id": "8987eb1b",
   "metadata": {},
   "outputs": [],
   "source": []
  }
 ],
 "metadata": {
  "kernelspec": {
   "display_name": "Python 3 (ipykernel)",
   "language": "python",
   "name": "python3"
  },
  "language_info": {
   "codemirror_mode": {
    "name": "ipython",
    "version": 3
   },
   "file_extension": ".py",
   "mimetype": "text/x-python",
   "name": "python",
   "nbconvert_exporter": "python",
   "pygments_lexer": "ipython3",
   "version": "3.10.7"
  }
 },
 "nbformat": 4,
 "nbformat_minor": 5
}
