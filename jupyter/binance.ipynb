{
 "cells": [
  {
   "cell_type": "markdown",
   "id": "9cd17c01",
   "metadata": {},
   "source": [
    "# Configuracion y uso de API Binance con Python"
   ]
  },
  {
   "cell_type": "code",
   "execution_count": 3,
   "id": "3d5efc8f",
   "metadata": {},
   "outputs": [],
   "source": [
    "from binance import Client"
   ]
  },
  {
   "cell_type": "code",
   "execution_count": 11,
   "id": "349d65bf",
   "metadata": {},
   "outputs": [],
   "source": [
    "import pandas as pd"
   ]
  },
  {
   "cell_type": "code",
   "execution_count": 6,
   "id": "f213a3d9",
   "metadata": {},
   "outputs": [],
   "source": [
    "API_KEY = \"Ly5s0rOFZ08LDxqyD4IYAbK3GgpRj4nC9s2299fsmnK9TD1nZkSS9GQCImxmE9NW\"\n",
    "API_SECRET = \"GvPwqiu5N8DLwUy0819JE1eCycvLPXS3dR9DHiwmVkW32FGwDURyOi2i5fJdpw1H\""
   ]
  },
  {
   "cell_type": "code",
   "execution_count": 7,
   "id": "a3806145",
   "metadata": {},
   "outputs": [],
   "source": [
    "client = Client(API_KEY, API_SECRET) # Conexion con la API"
   ]
  },
  {
   "cell_type": "code",
   "execution_count": 8,
   "id": "7c8e19a4",
   "metadata": {},
   "outputs": [
    {
     "name": "stdout",
     "output_type": "stream",
     "text": [
      "{}\n"
     ]
    }
   ],
   "source": [
    "print(client.ping()) # verify correct connection to API"
   ]
  },
  {
   "cell_type": "markdown",
   "id": "ec78c39f",
   "metadata": {},
   "source": [
    "## Get info of the all coin tickers and price"
   ]
  },
  {
   "cell_type": "code",
   "execution_count": 12,
   "id": "63c22024",
   "metadata": {},
   "outputs": [],
   "source": [
    "coin_info = client.get_all_tickers() # get info of the all coin tickers and price"
   ]
  },
  {
   "cell_type": "code",
   "execution_count": 13,
   "id": "68e52342",
   "metadata": {},
   "outputs": [],
   "source": [
    "df = pd.DataFrame(coin_info)"
   ]
  },
  {
   "cell_type": "code",
   "execution_count": 17,
   "id": "6fe64471",
   "metadata": {},
   "outputs": [
    {
     "data": {
      "text/html": [
       "<div>\n",
       "<style scoped>\n",
       "    .dataframe tbody tr th:only-of-type {\n",
       "        vertical-align: middle;\n",
       "    }\n",
       "\n",
       "    .dataframe tbody tr th {\n",
       "        vertical-align: top;\n",
       "    }\n",
       "\n",
       "    .dataframe thead th {\n",
       "        text-align: right;\n",
       "    }\n",
       "</style>\n",
       "<table border=\"1\" class=\"dataframe\">\n",
       "  <thead>\n",
       "    <tr style=\"text-align: right;\">\n",
       "      <th></th>\n",
       "      <th>symbol</th>\n",
       "      <th>price</th>\n",
       "    </tr>\n",
       "  </thead>\n",
       "  <tbody>\n",
       "    <tr>\n",
       "      <th>2153</th>\n",
       "      <td>SSVUSDT</td>\n",
       "      <td>39.86000000</td>\n",
       "    </tr>\n",
       "    <tr>\n",
       "      <th>2154</th>\n",
       "      <td>LQTYUSDT</td>\n",
       "      <td>2.03900000</td>\n",
       "    </tr>\n",
       "    <tr>\n",
       "      <th>2155</th>\n",
       "      <td>LQTYBTC</td>\n",
       "      <td>0.00009116</td>\n",
       "    </tr>\n",
       "    <tr>\n",
       "      <th>2156</th>\n",
       "      <td>AMBUSDT</td>\n",
       "      <td>0.02141000</td>\n",
       "    </tr>\n",
       "    <tr>\n",
       "      <th>2157</th>\n",
       "      <td>BETHUSDT</td>\n",
       "      <td>1533.18000000</td>\n",
       "    </tr>\n",
       "  </tbody>\n",
       "</table>\n",
       "</div>"
      ],
      "text/plain": [
       "        symbol          price\n",
       "2153   SSVUSDT    39.86000000\n",
       "2154  LQTYUSDT     2.03900000\n",
       "2155   LQTYBTC     0.00009116\n",
       "2156   AMBUSDT     0.02141000\n",
       "2157  BETHUSDT  1533.18000000"
      ]
     },
     "execution_count": 17,
     "metadata": {},
     "output_type": "execute_result"
    }
   ],
   "source": [
    "df.tail()"
   ]
  },
  {
   "cell_type": "code",
   "execution_count": 78,
   "id": "5d776454",
   "metadata": {},
   "outputs": [
    {
     "data": {
      "text/html": [
       "<div>\n",
       "<style scoped>\n",
       "    .dataframe tbody tr th:only-of-type {\n",
       "        vertical-align: middle;\n",
       "    }\n",
       "\n",
       "    .dataframe tbody tr th {\n",
       "        vertical-align: top;\n",
       "    }\n",
       "\n",
       "    .dataframe thead th {\n",
       "        text-align: right;\n",
       "    }\n",
       "</style>\n",
       "<table border=\"1\" class=\"dataframe\">\n",
       "  <thead>\n",
       "    <tr style=\"text-align: right;\">\n",
       "      <th></th>\n",
       "      <th>price</th>\n",
       "    </tr>\n",
       "    <tr>\n",
       "      <th>symbol</th>\n",
       "      <th></th>\n",
       "    </tr>\n",
       "  </thead>\n",
       "  <tbody>\n",
       "    <tr>\n",
       "      <th>ETHBTC</th>\n",
       "      <td>0.069903</td>\n",
       "    </tr>\n",
       "    <tr>\n",
       "      <th>LTCBTC</th>\n",
       "      <td>0.004020</td>\n",
       "    </tr>\n",
       "    <tr>\n",
       "      <th>BNBBTC</th>\n",
       "      <td>0.012955</td>\n",
       "    </tr>\n",
       "    <tr>\n",
       "      <th>NEOBTC</th>\n",
       "      <td>0.000517</td>\n",
       "    </tr>\n",
       "    <tr>\n",
       "      <th>QTUMETH</th>\n",
       "      <td>0.001938</td>\n",
       "    </tr>\n",
       "    <tr>\n",
       "      <th>...</th>\n",
       "      <td>...</td>\n",
       "    </tr>\n",
       "    <tr>\n",
       "      <th>SSVUSDT</th>\n",
       "      <td>39.860000</td>\n",
       "    </tr>\n",
       "    <tr>\n",
       "      <th>LQTYUSDT</th>\n",
       "      <td>2.039000</td>\n",
       "    </tr>\n",
       "    <tr>\n",
       "      <th>LQTYBTC</th>\n",
       "      <td>0.000091</td>\n",
       "    </tr>\n",
       "    <tr>\n",
       "      <th>AMBUSDT</th>\n",
       "      <td>0.021410</td>\n",
       "    </tr>\n",
       "    <tr>\n",
       "      <th>BETHUSDT</th>\n",
       "      <td>1533.180000</td>\n",
       "    </tr>\n",
       "  </tbody>\n",
       "</table>\n",
       "<p>2158 rows × 1 columns</p>\n",
       "</div>"
      ],
      "text/plain": [
       "                price\n",
       "symbol               \n",
       "ETHBTC       0.069903\n",
       "LTCBTC       0.004020\n",
       "BNBBTC       0.012955\n",
       "NEOBTC       0.000517\n",
       "QTUMETH      0.001938\n",
       "...               ...\n",
       "SSVUSDT     39.860000\n",
       "LQTYUSDT     2.039000\n",
       "LQTYBTC      0.000091\n",
       "AMBUSDT      0.021410\n",
       "BETHUSDT  1533.180000\n",
       "\n",
       "[2158 rows x 1 columns]"
      ]
     },
     "execution_count": 78,
     "metadata": {},
     "output_type": "execute_result"
    }
   ],
   "source": [
    "df.set_index(\"symbol\")"
   ]
  },
  {
   "cell_type": "code",
   "execution_count": 35,
   "id": "35278714",
   "metadata": {},
   "outputs": [
    {
     "data": {
      "text/plain": [
       "numpy.float64"
      ]
     },
     "execution_count": 35,
     "metadata": {},
     "output_type": "execute_result"
    }
   ],
   "source": [
    "df[\"price\"] = df[\"price\"].astype(\"float\")# Se convierte la columna a float\n",
    "type(df[\"price\"][0])\n"
   ]
  },
  {
   "cell_type": "code",
   "execution_count": 79,
   "id": "4447f6d7",
   "metadata": {},
   "outputs": [],
   "source": [
    "df.index = df.index.astype(\"string\")"
   ]
  },
  {
   "cell_type": "code",
   "execution_count": 38,
   "id": "dfe92177",
   "metadata": {},
   "outputs": [
    {
     "data": {
      "text/html": [
       "<div>\n",
       "<style scoped>\n",
       "    .dataframe tbody tr th:only-of-type {\n",
       "        vertical-align: middle;\n",
       "    }\n",
       "\n",
       "    .dataframe tbody tr th {\n",
       "        vertical-align: top;\n",
       "    }\n",
       "\n",
       "    .dataframe thead th {\n",
       "        text-align: right;\n",
       "    }\n",
       "</style>\n",
       "<table border=\"1\" class=\"dataframe\">\n",
       "  <thead>\n",
       "    <tr style=\"text-align: right;\">\n",
       "      <th></th>\n",
       "      <th>symbol</th>\n",
       "      <th>price</th>\n",
       "    </tr>\n",
       "  </thead>\n",
       "  <tbody>\n",
       "    <tr>\n",
       "      <th>0</th>\n",
       "      <td>ETHBTC</td>\n",
       "      <td>0.069903</td>\n",
       "    </tr>\n",
       "    <tr>\n",
       "      <th>1</th>\n",
       "      <td>LTCBTC</td>\n",
       "      <td>0.004020</td>\n",
       "    </tr>\n",
       "    <tr>\n",
       "      <th>2</th>\n",
       "      <td>BNBBTC</td>\n",
       "      <td>0.012955</td>\n",
       "    </tr>\n",
       "    <tr>\n",
       "      <th>3</th>\n",
       "      <td>NEOBTC</td>\n",
       "      <td>0.000517</td>\n",
       "    </tr>\n",
       "    <tr>\n",
       "      <th>4</th>\n",
       "      <td>QTUMETH</td>\n",
       "      <td>0.001938</td>\n",
       "    </tr>\n",
       "  </tbody>\n",
       "</table>\n",
       "</div>"
      ],
      "text/plain": [
       "    symbol     price\n",
       "0   ETHBTC  0.069903\n",
       "1   LTCBTC  0.004020\n",
       "2   BNBBTC  0.012955\n",
       "3   NEOBTC  0.000517\n",
       "4  QTUMETH  0.001938"
      ]
     },
     "execution_count": 38,
     "metadata": {},
     "output_type": "execute_result"
    }
   ],
   "source": [
    "df.head()"
   ]
  },
  {
   "cell_type": "code",
   "execution_count": 88,
   "id": "c1ee0f48",
   "metadata": {},
   "outputs": [],
   "source": [
    "df2 = pd.DataFrame(coin_info)"
   ]
  },
  {
   "cell_type": "code",
   "execution_count": 89,
   "id": "790eced4",
   "metadata": {},
   "outputs": [
    {
     "data": {
      "text/plain": [
       "1     0.00402000\n",
       "2     0.01295500\n",
       "3     0.00051700\n",
       "4     0.00193800\n",
       "5     0.00080900\n",
       "6     0.00001722\n",
       "7     0.00028900\n",
       "8     0.07908100\n",
       "9     0.00013940\n",
       "10    0.18540000\n",
       "Name: price, dtype: object"
      ]
     },
     "execution_count": 89,
     "metadata": {},
     "output_type": "execute_result"
    }
   ],
   "source": [
    "df2.loc[1:10,\"price\"]"
   ]
  },
  {
   "cell_type": "code",
   "execution_count": 90,
   "id": "4d11bef5",
   "metadata": {},
   "outputs": [
    {
     "data": {
      "text/html": [
       "<div>\n",
       "<style scoped>\n",
       "    .dataframe tbody tr th:only-of-type {\n",
       "        vertical-align: middle;\n",
       "    }\n",
       "\n",
       "    .dataframe tbody tr th {\n",
       "        vertical-align: top;\n",
       "    }\n",
       "\n",
       "    .dataframe thead th {\n",
       "        text-align: right;\n",
       "    }\n",
       "</style>\n",
       "<table border=\"1\" class=\"dataframe\">\n",
       "  <thead>\n",
       "    <tr style=\"text-align: right;\">\n",
       "      <th></th>\n",
       "      <th>symbol</th>\n",
       "      <th>price</th>\n",
       "    </tr>\n",
       "  </thead>\n",
       "  <tbody>\n",
       "    <tr>\n",
       "      <th>0</th>\n",
       "      <td>ETHBTC</td>\n",
       "      <td>0.069903</td>\n",
       "    </tr>\n",
       "    <tr>\n",
       "      <th>1</th>\n",
       "      <td>LTCBTC</td>\n",
       "      <td>0.004020</td>\n",
       "    </tr>\n",
       "    <tr>\n",
       "      <th>2</th>\n",
       "      <td>BNBBTC</td>\n",
       "      <td>0.012955</td>\n",
       "    </tr>\n",
       "    <tr>\n",
       "      <th>3</th>\n",
       "      <td>NEOBTC</td>\n",
       "      <td>0.000517</td>\n",
       "    </tr>\n",
       "    <tr>\n",
       "      <th>4</th>\n",
       "      <td>QTUMETH</td>\n",
       "      <td>0.001938</td>\n",
       "    </tr>\n",
       "    <tr>\n",
       "      <th>...</th>\n",
       "      <td>...</td>\n",
       "      <td>...</td>\n",
       "    </tr>\n",
       "    <tr>\n",
       "      <th>2153</th>\n",
       "      <td>SSVUSDT</td>\n",
       "      <td>39.860000</td>\n",
       "    </tr>\n",
       "    <tr>\n",
       "      <th>2154</th>\n",
       "      <td>LQTYUSDT</td>\n",
       "      <td>2.039000</td>\n",
       "    </tr>\n",
       "    <tr>\n",
       "      <th>2155</th>\n",
       "      <td>LQTYBTC</td>\n",
       "      <td>0.000091</td>\n",
       "    </tr>\n",
       "    <tr>\n",
       "      <th>2156</th>\n",
       "      <td>AMBUSDT</td>\n",
       "      <td>0.021410</td>\n",
       "    </tr>\n",
       "    <tr>\n",
       "      <th>2157</th>\n",
       "      <td>BETHUSDT</td>\n",
       "      <td>1533.180000</td>\n",
       "    </tr>\n",
       "  </tbody>\n",
       "</table>\n",
       "<p>2158 rows × 2 columns</p>\n",
       "</div>"
      ],
      "text/plain": [
       "        symbol        price\n",
       "0       ETHBTC     0.069903\n",
       "1       LTCBTC     0.004020\n",
       "2       BNBBTC     0.012955\n",
       "3       NEOBTC     0.000517\n",
       "4      QTUMETH     0.001938\n",
       "...        ...          ...\n",
       "2153   SSVUSDT    39.860000\n",
       "2154  LQTYUSDT     2.039000\n",
       "2155   LQTYBTC     0.000091\n",
       "2156   AMBUSDT     0.021410\n",
       "2157  BETHUSDT  1533.180000\n",
       "\n",
       "[2158 rows x 2 columns]"
      ]
     },
     "execution_count": 90,
     "metadata": {},
     "output_type": "execute_result"
    }
   ],
   "source": [
    "df.loc[:]"
   ]
  },
  {
   "cell_type": "code",
   "execution_count": 94,
   "id": "ac0c7008",
   "metadata": {},
   "outputs": [
    {
     "data": {
      "text/html": [
       "<div>\n",
       "<style scoped>\n",
       "    .dataframe tbody tr th:only-of-type {\n",
       "        vertical-align: middle;\n",
       "    }\n",
       "\n",
       "    .dataframe tbody tr th {\n",
       "        vertical-align: top;\n",
       "    }\n",
       "\n",
       "    .dataframe thead th {\n",
       "        text-align: right;\n",
       "    }\n",
       "</style>\n",
       "<table border=\"1\" class=\"dataframe\">\n",
       "  <thead>\n",
       "    <tr style=\"text-align: right;\">\n",
       "      <th></th>\n",
       "      <th>symbol</th>\n",
       "      <th>price</th>\n",
       "    </tr>\n",
       "  </thead>\n",
       "  <tbody>\n",
       "    <tr>\n",
       "      <th>11</th>\n",
       "      <td>BTCUSDT</td>\n",
       "      <td>22317.66000000</td>\n",
       "    </tr>\n",
       "  </tbody>\n",
       "</table>\n",
       "</div>"
      ],
      "text/plain": [
       "     symbol           price\n",
       "11  BTCUSDT  22317.66000000"
      ]
     },
     "execution_count": 94,
     "metadata": {},
     "output_type": "execute_result"
    }
   ],
   "source": [
    "df2.loc[df2[\"symbol\"]==\"BTCUSDT\"]"
   ]
  },
  {
   "cell_type": "markdown",
   "id": "d8bd7c91",
   "metadata": {},
   "source": [
    "## Get historical price"
   ]
  },
  {
   "cell_type": "code",
   "execution_count": 155,
   "id": "73e31dfc",
   "metadata": {},
   "outputs": [],
   "source": [
    "asset=\"BTCUSDT\"\n",
    "start=\"2022.11.1\"\n",
    "end=\"2023.3.1\"\n",
    "timeframe=\"1d\""
   ]
  },
  {
   "cell_type": "code",
   "execution_count": 156,
   "id": "86e69a20",
   "metadata": {},
   "outputs": [],
   "source": [
    "df_btc = pd.DataFrame(client.get_historical_klines(asset,timeframe,start,end))"
   ]
  },
  {
   "cell_type": "code",
   "execution_count": 157,
   "id": "b82c50f0",
   "metadata": {},
   "outputs": [
    {
     "data": {
      "text/html": [
       "<div>\n",
       "<style scoped>\n",
       "    .dataframe tbody tr th:only-of-type {\n",
       "        vertical-align: middle;\n",
       "    }\n",
       "\n",
       "    .dataframe tbody tr th {\n",
       "        vertical-align: top;\n",
       "    }\n",
       "\n",
       "    .dataframe thead th {\n",
       "        text-align: right;\n",
       "    }\n",
       "</style>\n",
       "<table border=\"1\" class=\"dataframe\">\n",
       "  <thead>\n",
       "    <tr style=\"text-align: right;\">\n",
       "      <th></th>\n",
       "      <th>0</th>\n",
       "      <th>1</th>\n",
       "      <th>2</th>\n",
       "      <th>3</th>\n",
       "      <th>4</th>\n",
       "      <th>5</th>\n",
       "      <th>6</th>\n",
       "      <th>7</th>\n",
       "      <th>8</th>\n",
       "      <th>9</th>\n",
       "      <th>10</th>\n",
       "      <th>11</th>\n",
       "    </tr>\n",
       "  </thead>\n",
       "  <tbody>\n",
       "    <tr>\n",
       "      <th>116</th>\n",
       "      <td>1677283200000</td>\n",
       "      <td>23184.04000000</td>\n",
       "      <td>23219.13000000</td>\n",
       "      <td>22722.00000000</td>\n",
       "      <td>23157.07000000</td>\n",
       "      <td>191311.81010000</td>\n",
       "      <td>1677369599999</td>\n",
       "      <td>4406286300.27211680</td>\n",
       "      <td>9124568</td>\n",
       "      <td>94440.13964000</td>\n",
       "      <td>2175283940.90413120</td>\n",
       "      <td>0</td>\n",
       "    </tr>\n",
       "    <tr>\n",
       "      <th>117</th>\n",
       "      <td>1677369600000</td>\n",
       "      <td>23157.07000000</td>\n",
       "      <td>23689.99000000</td>\n",
       "      <td>23059.18000000</td>\n",
       "      <td>23554.85000000</td>\n",
       "      <td>202323.73623000</td>\n",
       "      <td>1677455999999</td>\n",
       "      <td>4716158181.22558950</td>\n",
       "      <td>9506015</td>\n",
       "      <td>101003.39278000</td>\n",
       "      <td>2354572412.69006830</td>\n",
       "      <td>0</td>\n",
       "    </tr>\n",
       "    <tr>\n",
       "      <th>118</th>\n",
       "      <td>1677456000000</td>\n",
       "      <td>23554.85000000</td>\n",
       "      <td>23897.99000000</td>\n",
       "      <td>23106.77000000</td>\n",
       "      <td>23492.09000000</td>\n",
       "      <td>283706.08590000</td>\n",
       "      <td>1677542399999</td>\n",
       "      <td>6659785788.32937360</td>\n",
       "      <td>11754195</td>\n",
       "      <td>141360.04845000</td>\n",
       "      <td>3318353869.99525000</td>\n",
       "      <td>0</td>\n",
       "    </tr>\n",
       "    <tr>\n",
       "      <th>119</th>\n",
       "      <td>1677542400000</td>\n",
       "      <td>23492.09000000</td>\n",
       "      <td>23600.00000000</td>\n",
       "      <td>23020.97000000</td>\n",
       "      <td>23141.57000000</td>\n",
       "      <td>264140.99894000</td>\n",
       "      <td>1677628799999</td>\n",
       "      <td>6172930936.03733470</td>\n",
       "      <td>9568743</td>\n",
       "      <td>131200.82704000</td>\n",
       "      <td>3066249880.67031860</td>\n",
       "      <td>0</td>\n",
       "    </tr>\n",
       "    <tr>\n",
       "      <th>120</th>\n",
       "      <td>1677628800000</td>\n",
       "      <td>23141.57000000</td>\n",
       "      <td>24000.00000000</td>\n",
       "      <td>23020.03000000</td>\n",
       "      <td>23628.97000000</td>\n",
       "      <td>315287.41737000</td>\n",
       "      <td>1677715199999</td>\n",
       "      <td>7441571085.49540830</td>\n",
       "      <td>9390487</td>\n",
       "      <td>157961.92667000</td>\n",
       "      <td>3728256787.11009410</td>\n",
       "      <td>0</td>\n",
       "    </tr>\n",
       "  </tbody>\n",
       "</table>\n",
       "</div>"
      ],
      "text/plain": [
       "                0               1               2               3   \\\n",
       "116  1677283200000  23184.04000000  23219.13000000  22722.00000000   \n",
       "117  1677369600000  23157.07000000  23689.99000000  23059.18000000   \n",
       "118  1677456000000  23554.85000000  23897.99000000  23106.77000000   \n",
       "119  1677542400000  23492.09000000  23600.00000000  23020.97000000   \n",
       "120  1677628800000  23141.57000000  24000.00000000  23020.03000000   \n",
       "\n",
       "                 4                5              6                    7   \\\n",
       "116  23157.07000000  191311.81010000  1677369599999  4406286300.27211680   \n",
       "117  23554.85000000  202323.73623000  1677455999999  4716158181.22558950   \n",
       "118  23492.09000000  283706.08590000  1677542399999  6659785788.32937360   \n",
       "119  23141.57000000  264140.99894000  1677628799999  6172930936.03733470   \n",
       "120  23628.97000000  315287.41737000  1677715199999  7441571085.49540830   \n",
       "\n",
       "           8                9                    10 11  \n",
       "116   9124568   94440.13964000  2175283940.90413120  0  \n",
       "117   9506015  101003.39278000  2354572412.69006830  0  \n",
       "118  11754195  141360.04845000  3318353869.99525000  0  \n",
       "119   9568743  131200.82704000  3066249880.67031860  0  \n",
       "120   9390487  157961.92667000  3728256787.11009410  0  "
      ]
     },
     "execution_count": 157,
     "metadata": {},
     "output_type": "execute_result"
    }
   ],
   "source": [
    "df_btc.tail()"
   ]
  },
  {
   "cell_type": "code",
   "execution_count": 158,
   "id": "e52106fa",
   "metadata": {},
   "outputs": [],
   "source": [
    "df_btc = df_btc.iloc[:,:6]# recortamos la cantidad de columnas del dataframe"
   ]
  },
  {
   "cell_type": "code",
   "execution_count": 159,
   "id": "2ab1afd9",
   "metadata": {},
   "outputs": [],
   "source": [
    "df_btc.columns = [\"Date\",\"Open\",\"High\", \"Low\", \"Close\", \"Volume\"] # Cambiamos el nombre de las columnas"
   ]
  },
  {
   "cell_type": "code",
   "execution_count": 160,
   "id": "ad27dac1",
   "metadata": {},
   "outputs": [
    {
     "data": {
      "text/html": [
       "<div>\n",
       "<style scoped>\n",
       "    .dataframe tbody tr th:only-of-type {\n",
       "        vertical-align: middle;\n",
       "    }\n",
       "\n",
       "    .dataframe tbody tr th {\n",
       "        vertical-align: top;\n",
       "    }\n",
       "\n",
       "    .dataframe thead th {\n",
       "        text-align: right;\n",
       "    }\n",
       "</style>\n",
       "<table border=\"1\" class=\"dataframe\">\n",
       "  <thead>\n",
       "    <tr style=\"text-align: right;\">\n",
       "      <th></th>\n",
       "      <th>Date</th>\n",
       "      <th>Open</th>\n",
       "      <th>High</th>\n",
       "      <th>Low</th>\n",
       "      <th>Close</th>\n",
       "      <th>Volume</th>\n",
       "    </tr>\n",
       "  </thead>\n",
       "  <tbody>\n",
       "    <tr>\n",
       "      <th>0</th>\n",
       "      <td>1667260800000</td>\n",
       "      <td>20490.74000000</td>\n",
       "      <td>20700.00000000</td>\n",
       "      <td>20330.74000000</td>\n",
       "      <td>20483.62000000</td>\n",
       "      <td>279932.43771000</td>\n",
       "    </tr>\n",
       "    <tr>\n",
       "      <th>1</th>\n",
       "      <td>1667347200000</td>\n",
       "      <td>20482.81000000</td>\n",
       "      <td>20800.00000000</td>\n",
       "      <td>20048.04000000</td>\n",
       "      <td>20151.84000000</td>\n",
       "      <td>373716.27299000</td>\n",
       "    </tr>\n",
       "    <tr>\n",
       "      <th>2</th>\n",
       "      <td>1667433600000</td>\n",
       "      <td>20151.84000000</td>\n",
       "      <td>20393.32000000</td>\n",
       "      <td>20031.24000000</td>\n",
       "      <td>20207.82000000</td>\n",
       "      <td>319185.15440000</td>\n",
       "    </tr>\n",
       "    <tr>\n",
       "      <th>3</th>\n",
       "      <td>1667520000000</td>\n",
       "      <td>20207.12000000</td>\n",
       "      <td>21302.05000000</td>\n",
       "      <td>20180.96000000</td>\n",
       "      <td>21148.52000000</td>\n",
       "      <td>453694.39165000</td>\n",
       "    </tr>\n",
       "    <tr>\n",
       "      <th>4</th>\n",
       "      <td>1667606400000</td>\n",
       "      <td>21148.52000000</td>\n",
       "      <td>21480.65000000</td>\n",
       "      <td>21080.65000000</td>\n",
       "      <td>21299.37000000</td>\n",
       "      <td>245621.98525000</td>\n",
       "    </tr>\n",
       "  </tbody>\n",
       "</table>\n",
       "</div>"
      ],
      "text/plain": [
       "            Date            Open            High             Low  \\\n",
       "0  1667260800000  20490.74000000  20700.00000000  20330.74000000   \n",
       "1  1667347200000  20482.81000000  20800.00000000  20048.04000000   \n",
       "2  1667433600000  20151.84000000  20393.32000000  20031.24000000   \n",
       "3  1667520000000  20207.12000000  21302.05000000  20180.96000000   \n",
       "4  1667606400000  21148.52000000  21480.65000000  21080.65000000   \n",
       "\n",
       "            Close           Volume  \n",
       "0  20483.62000000  279932.43771000  \n",
       "1  20151.84000000  373716.27299000  \n",
       "2  20207.82000000  319185.15440000  \n",
       "3  21148.52000000  453694.39165000  \n",
       "4  21299.37000000  245621.98525000  "
      ]
     },
     "execution_count": 160,
     "metadata": {},
     "output_type": "execute_result"
    }
   ],
   "source": [
    "df_btc.head()"
   ]
  },
  {
   "cell_type": "code",
   "execution_count": 161,
   "id": "15e7e06a",
   "metadata": {},
   "outputs": [],
   "source": [
    "df_btc = df_btc.set_index(\"Date\") #Seleccionamos como index la columna Date"
   ]
  },
  {
   "cell_type": "code",
   "execution_count": 162,
   "id": "8105f5d2",
   "metadata": {},
   "outputs": [],
   "source": [
    "df_btc.index = pd.to_datetime(df_btc.index, unit=\"ms\") #Cambiamos el formato de la fecha"
   ]
  },
  {
   "cell_type": "code",
   "execution_count": 163,
   "id": "b293dfd2",
   "metadata": {},
   "outputs": [],
   "source": [
    "df_btc = df_btc.astype(\"float\") #convertimos los valores de objects a float"
   ]
  },
  {
   "cell_type": "code",
   "execution_count": 164,
   "id": "753ea3b6",
   "metadata": {},
   "outputs": [
    {
     "data": {
      "text/html": [
       "<div>\n",
       "<style scoped>\n",
       "    .dataframe tbody tr th:only-of-type {\n",
       "        vertical-align: middle;\n",
       "    }\n",
       "\n",
       "    .dataframe tbody tr th {\n",
       "        vertical-align: top;\n",
       "    }\n",
       "\n",
       "    .dataframe thead th {\n",
       "        text-align: right;\n",
       "    }\n",
       "</style>\n",
       "<table border=\"1\" class=\"dataframe\">\n",
       "  <thead>\n",
       "    <tr style=\"text-align: right;\">\n",
       "      <th></th>\n",
       "      <th>Open</th>\n",
       "      <th>High</th>\n",
       "      <th>Low</th>\n",
       "      <th>Close</th>\n",
       "      <th>Volume</th>\n",
       "    </tr>\n",
       "  </thead>\n",
       "  <tbody>\n",
       "    <tr>\n",
       "      <th>count</th>\n",
       "      <td>121.000000</td>\n",
       "      <td>121.000000</td>\n",
       "      <td>121.000000</td>\n",
       "      <td>121.000000</td>\n",
       "      <td>121.000000</td>\n",
       "    </tr>\n",
       "    <tr>\n",
       "      <th>mean</th>\n",
       "      <td>19449.597934</td>\n",
       "      <td>19813.519008</td>\n",
       "      <td>19117.735372</td>\n",
       "      <td>19475.578843</td>\n",
       "      <td>263359.793041</td>\n",
       "    </tr>\n",
       "    <tr>\n",
       "      <th>std</th>\n",
       "      <td>2978.481031</td>\n",
       "      <td>3095.455382</td>\n",
       "      <td>2909.929184</td>\n",
       "      <td>3001.288540</td>\n",
       "      <td>112452.679447</td>\n",
       "    </tr>\n",
       "    <tr>\n",
       "      <th>min</th>\n",
       "      <td>15781.290000</td>\n",
       "      <td>16315.000000</td>\n",
       "      <td>15476.000000</td>\n",
       "      <td>15781.290000</td>\n",
       "      <td>96925.413740</td>\n",
       "    </tr>\n",
       "    <tr>\n",
       "      <th>25%</th>\n",
       "      <td>16813.160000</td>\n",
       "      <td>16972.830000</td>\n",
       "      <td>16559.850000</td>\n",
       "      <td>16812.080000</td>\n",
       "      <td>179094.283050</td>\n",
       "    </tr>\n",
       "    <tr>\n",
       "      <th>50%</th>\n",
       "      <td>17602.450000</td>\n",
       "      <td>18000.000000</td>\n",
       "      <td>17146.340000</td>\n",
       "      <td>17601.150000</td>\n",
       "      <td>251385.849250</td>\n",
       "    </tr>\n",
       "    <tr>\n",
       "      <th>75%</th>\n",
       "      <td>22762.520000</td>\n",
       "      <td>23180.000000</td>\n",
       "      <td>22422.000000</td>\n",
       "      <td>22783.550000</td>\n",
       "      <td>315287.417370</td>\n",
       "    </tr>\n",
       "    <tr>\n",
       "      <th>max</th>\n",
       "      <td>24843.890000</td>\n",
       "      <td>25250.000000</td>\n",
       "      <td>24430.000000</td>\n",
       "      <td>24842.200000</td>\n",
       "      <td>760705.362783</td>\n",
       "    </tr>\n",
       "  </tbody>\n",
       "</table>\n",
       "</div>"
      ],
      "text/plain": [
       "               Open          High           Low         Close         Volume\n",
       "count    121.000000    121.000000    121.000000    121.000000     121.000000\n",
       "mean   19449.597934  19813.519008  19117.735372  19475.578843  263359.793041\n",
       "std     2978.481031   3095.455382   2909.929184   3001.288540  112452.679447\n",
       "min    15781.290000  16315.000000  15476.000000  15781.290000   96925.413740\n",
       "25%    16813.160000  16972.830000  16559.850000  16812.080000  179094.283050\n",
       "50%    17602.450000  18000.000000  17146.340000  17601.150000  251385.849250\n",
       "75%    22762.520000  23180.000000  22422.000000  22783.550000  315287.417370\n",
       "max    24843.890000  25250.000000  24430.000000  24842.200000  760705.362783"
      ]
     },
     "execution_count": 164,
     "metadata": {},
     "output_type": "execute_result"
    }
   ],
   "source": [
    "df_btc.describe()"
   ]
  },
  {
   "cell_type": "markdown",
   "id": "d3f0909c",
   "metadata": {},
   "source": [
    "## Visualize the Data"
   ]
  },
  {
   "cell_type": "code",
   "execution_count": 165,
   "id": "223839cb",
   "metadata": {},
   "outputs": [],
   "source": [
    "import mplfinance as mpl"
   ]
  },
  {
   "cell_type": "code",
   "execution_count": 170,
   "id": "beb369fc",
   "metadata": {},
   "outputs": [
    {
     "data": {
      "image/png": "[encoded data removed]",
      "text/plain": [
       "<Figure size 800x575 with 4 Axes>"
      ]
     },
     "metadata": {},
     "output_type": "display_data"
    }
   ],
   "source": [
    "mpl.plot(df_btc,\n",
    "         title= \"BTCUSDT\",\n",
    "         type=\"candle\",\n",
    "         style = \"yahoo\",\n",
    "         volume = True,\n",
    "         mav = (5,20),\n",
    "         show_nontrading = True,\n",
    "        )"
   ]
  },
  {
   "cell_type": "code",
   "execution_count": null,
   "id": "2c1242db",
   "metadata": {},
   "outputs": [],
   "source": []
  }
 ],
 "metadata": {
  "kernelspec": {
   "display_name": "Python 3 (ipykernel)",
   "language": "python",
   "name": "python3"
  },
  "language_info": {
   "codemirror_mode": {
    "name": "ipython",
    "version": 3
   },
   "file_extension": ".py",
   "mimetype": "text/x-python",
   "name": "python",
   "nbconvert_exporter": "python",
   "pygments_lexer": "ipython3",
   "version": "3.10.7"
  }
 },
 "nbformat": 4,
 "nbformat_minor": 5
}
