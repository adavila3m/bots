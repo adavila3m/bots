{
 "cells": [
  {
   "cell_type": "markdown",
   "id": "acf06d71",
   "metadata": {},
   "source": [
    "## Funcion map()\n",
    "\n",
    "La funcion map() aplica una funcion a cada elemento de un iterable"
   ]
  },
  {
   "cell_type": "markdown",
   "id": "67388d22",
   "metadata": {},
   "source": [
    "### Implementar funciones definidas por el usuario"
   ]
  },
  {
   "cell_type": "code",
   "execution_count": 11,
   "id": "c1791602",
   "metadata": {},
   "outputs": [],
   "source": [
    "numbers = [10, 15, 21, 33, 42, 55]\n",
    "numbers2 = [40, 8, 4, 398, 500]"
   ]
  },
  {
   "cell_type": "code",
   "execution_count": 14,
   "id": "5187ba0b",
   "metadata": {},
   "outputs": [],
   "source": [
    "#funcion que devuelve el triple del valor que se pasa como parametro\n",
    "def suma(x,y):\n",
    "    return x + y\n",
    "\n",
    "def triple(x):\n",
    "    return x*3"
   ]
  },
  {
   "cell_type": "code",
   "execution_count": 15,
   "id": "f6e1eee9",
   "metadata": {},
   "outputs": [
    {
     "data": {
      "text/plain": [
       "[50, 23, 25, 431, 542]"
      ]
     },
     "execution_count": 15,
     "metadata": {},
     "output_type": "execute_result"
    }
   ],
   "source": [
    "list(map(suma, numbers, numbers2))"
   ]
  },
  {
   "cell_type": "code",
   "execution_count": 12,
   "id": "be297029",
   "metadata": {},
   "outputs": [],
   "source": [
    "aquarium_creatures = [\n",
    "\t{\"name\": \"sammy\", \"species\": \"shark\", \"tank number\": 11, \"type\": \"fish\"},\n",
    "\t{\"name\": \"ashley\", \"species\": \"crab\", \"tank number\": 25, \"type\": \"shellfish\"},\n",
    "\t{\"name\": \"jo\", \"species\": \"guppy\", \"tank number\": 18, \"type\": \"fish\"},\n",
    "\t{\"name\": \"jackie\", \"species\": \"lobster\", \"tank number\": 21, \"type\": \"shellfish\"},\n",
    "\t{\"name\": \"charlie\", \"species\": \"clownfish\", \"tank number\": 12, \"type\": \"fish\"},\n",
    "\t{\"name\": \"olly\", \"species\": \"green turtle\", \"tank number\": 34, \"type\": \"turtle\"}\n",
    "]\n"
   ]
  },
  {
   "cell_type": "code",
   "execution_count": 25,
   "id": "f8b1ea57",
   "metadata": {},
   "outputs": [],
   "source": [
    "#Definimos una funcion que mediante map se aplica a cada elemento del iterable\n",
    "\n",
    "def assign_to_tank(aquarium, tank_number):\n",
    "    def change(x):#funcion anidad\n",
    "        x[\"tank number\"] = tank_number\n",
    "        return x\n",
    "    return list(map(change, aquarium)) #retorna una lista de diccionarios"
   ]
  },
  {
   "cell_type": "code",
   "execution_count": 26,
   "id": "8e4683ee",
   "metadata": {},
   "outputs": [],
   "source": [
    "new_assigned = assign_to_tank(aquarium_creatures, 40)"
   ]
  },
  {
   "cell_type": "code",
   "execution_count": 28,
   "id": "3f4f2d13",
   "metadata": {},
   "outputs": [
    {
     "data": {
      "text/plain": [
       "{'name': 'jo', 'species': 'guppy', 'tank number': 40, 'type': 'fish'}"
      ]
     },
     "execution_count": 28,
     "metadata": {},
     "output_type": "execute_result"
    }
   ],
   "source": [
    "new_assigned[2]"
   ]
  },
  {
   "cell_type": "code",
   "execution_count": null,
   "id": "c6655f0f",
   "metadata": {},
   "outputs": [],
   "source": []
  },
  {
   "cell_type": "markdown",
   "id": "b803157f",
   "metadata": {},
   "source": [
    "## Funcion lambda"
   ]
  },
  {
   "cell_type": "markdown",
   "id": "7e177c2d",
   "metadata": {},
   "source": [
    "### Funcion lambda como parametro"
   ]
  },
  {
   "cell_type": "code",
   "execution_count": 5,
   "id": "7f45dee1",
   "metadata": {},
   "outputs": [
    {
     "data": {
      "text/plain": [
       "[30, 45, 63, 99, 126, 165]"
      ]
     },
     "execution_count": 5,
     "metadata": {},
     "output_type": "execute_result"
    }
   ],
   "source": [
    "# Funcion lambda\n",
    "list(map(lambda x: x*3, numbers))"
   ]
  },
  {
   "cell_type": "code",
   "execution_count": 6,
   "id": "19ada35d",
   "metadata": {},
   "outputs": [
    {
     "data": {
      "text/plain": [
       "[50, 23, 25, 431, 542]"
      ]
     },
     "execution_count": 6,
     "metadata": {},
     "output_type": "execute_result"
    }
   ],
   "source": [
    "list(map(lambda x,y: x+y, numbers, numbers2))"
   ]
  },
  {
   "cell_type": "markdown",
   "id": "7aaac8df",
   "metadata": {},
   "source": [
    "### Devolver una funcion lambda"
   ]
  },
  {
   "cell_type": "code",
   "execution_count": 7,
   "id": "ef9f8516",
   "metadata": {},
   "outputs": [],
   "source": [
    "#Devolver una funcion lambda\n",
    "\n",
    "def multiplicar_por(n):\n",
    "    return lambda x: x*n"
   ]
  },
  {
   "cell_type": "code",
   "execution_count": 8,
   "id": "fc041d66",
   "metadata": {},
   "outputs": [],
   "source": [
    "duplicar = multiplicar_por(856)"
   ]
  },
  {
   "cell_type": "code",
   "execution_count": 9,
   "id": "0f82855b",
   "metadata": {},
   "outputs": [
    {
     "data": {
      "text/plain": [
       "11984"
      ]
     },
     "execution_count": 9,
     "metadata": {},
     "output_type": "execute_result"
    }
   ],
   "source": [
    "duplicar(14)"
   ]
  },
  {
   "cell_type": "markdown",
   "id": "af33dd50",
   "metadata": {},
   "source": [
    "## Fundamento Asyncio"
   ]
  },
  {
   "cell_type": "code",
   "execution_count": 11,
   "id": "857f47a0",
   "metadata": {},
   "outputs": [],
   "source": [
    "import asyncio\n",
    "import nest_asyncio"
   ]
  },
  {
   "cell_type": "code",
   "execution_count": 15,
   "id": "5d123895",
   "metadata": {},
   "outputs": [],
   "source": [
    "nest_asyncio.apply()# Ejecutar esta linea para que funcione en jupyter"
   ]
  },
  {
   "cell_type": "code",
   "execution_count": 2,
   "id": "2c330b96",
   "metadata": {},
   "outputs": [],
   "source": [
    "#funcion normal\n",
    "def add( x: float, y: int):\n",
    "    return x+y"
   ]
  },
  {
   "cell_type": "code",
   "execution_count": 3,
   "id": "85d80d2f",
   "metadata": {},
   "outputs": [
    {
     "data": {
      "text/plain": [
       "7.5"
      ]
     },
     "execution_count": 3,
     "metadata": {},
     "output_type": "execute_result"
    }
   ],
   "source": [
    "add(3,4.5)"
   ]
  },
  {
   "cell_type": "code",
   "execution_count": 6,
   "id": "dbabdc89",
   "metadata": {},
   "outputs": [],
   "source": [
    "# co-rutine\n",
    "async def suma(x: int, y: int):\n",
    "    return x + y "
   ]
  },
  {
   "cell_type": "code",
   "execution_count": 13,
   "id": "aab3b40f",
   "metadata": {},
   "outputs": [],
   "source": [
    "loop= asyncio.get_event_loop()#Creamos un nuevo bucle de eventos"
   ]
  },
  {
   "cell_type": "code",
   "execution_count": 14,
   "id": "030c6683",
   "metadata": {},
   "outputs": [],
   "source": [
    "#pasamos la co-rutine al nuevo bucle\n",
    "\n",
    "result = loop.run_until_complete(suma(3,8))"
   ]
  },
  {
   "cell_type": "code",
   "execution_count": 16,
   "id": "6dae61c9",
   "metadata": {},
   "outputs": [
    {
     "name": "stdout",
     "output_type": "stream",
     "text": [
      "11\n"
     ]
    }
   ],
   "source": [
    "print(result)"
   ]
  },
  {
   "cell_type": "code",
   "execution_count": 23,
   "id": "fa80a761",
   "metadata": {},
   "outputs": [],
   "source": [
    "#Funcion que muestra el resultado y detiene el ciclo\n",
    "\n",
    "async def get_results():\n",
    "    resultado1 = await suma(2,3)\n",
    "    resultado2 = await suma(5,4)\n",
    "    \n",
    "    print(\"Resultados %s, %s\"%(resultado1, resultado2))\n",
    "    \n",
    "    loop.stop()"
   ]
  },
  {
   "cell_type": "code",
   "execution_count": 24,
   "id": "59a2a6a0",
   "metadata": {},
   "outputs": [
    {
     "data": {
      "text/plain": [
       "<Task pending name='Task-4' coro=<get_results() running at /tmp/ipykernel_7935/2790402069.py:3>>"
      ]
     },
     "execution_count": 24,
     "metadata": {},
     "output_type": "execute_result"
    }
   ],
   "source": [
    "#creamos una tarea\n",
    "loop.create_task(get_results())"
   ]
  },
  {
   "cell_type": "code",
   "execution_count": 21,
   "id": "e20f82af",
   "metadata": {},
   "outputs": [
    {
     "data": {
      "text/plain": [
       "'\"try:\\n    loop.forever()\\nfinally:\\n    loop.close()'"
      ]
     },
     "execution_count": 21,
     "metadata": {},
     "output_type": "execute_result"
    }
   ],
   "source": [
    "\"\"\"\"try:\n",
    "    loop.forever()\n",
    "finally:\n",
    "    loop.close()\"\"\"\n"
   ]
  },
  {
   "cell_type": "code",
   "execution_count": 22,
   "id": "c2afe60e",
   "metadata": {},
   "outputs": [
    {
     "ename": "TypeError",
     "evalue": "suma() missing 1 required positional argument: 'y'",
     "output_type": "error",
     "traceback": [
      "\u001b[0;31m---------------------------------------------------------------------------\u001b[0m",
      "\u001b[0;31mTypeError\u001b[0m                                 Traceback (most recent call last)",
      "Cell \u001b[0;32mIn[22], line 1\u001b[0m\n\u001b[0;32m----> 1\u001b[0m \u001b[43masyncio\u001b[49m\u001b[38;5;241;43m.\u001b[39;49m\u001b[43mrun\u001b[49m\u001b[43m(\u001b[49m\u001b[43mget_results\u001b[49m\u001b[43m(\u001b[49m\u001b[43m)\u001b[49m\u001b[43m)\u001b[49m\n",
      "File \u001b[0;32m/home/projects/bots/bots_venv/lib/python3.10/site-packages/nest_asyncio.py:35\u001b[0m, in \u001b[0;36m_patch_asyncio.<locals>.run\u001b[0;34m(main, debug)\u001b[0m\n\u001b[1;32m     33\u001b[0m task \u001b[38;5;241m=\u001b[39m asyncio\u001b[38;5;241m.\u001b[39mensure_future(main)\n\u001b[1;32m     34\u001b[0m \u001b[38;5;28;01mtry\u001b[39;00m:\n\u001b[0;32m---> 35\u001b[0m     \u001b[38;5;28;01mreturn\u001b[39;00m \u001b[43mloop\u001b[49m\u001b[38;5;241;43m.\u001b[39;49m\u001b[43mrun_until_complete\u001b[49m\u001b[43m(\u001b[49m\u001b[43mtask\u001b[49m\u001b[43m)\u001b[49m\n\u001b[1;32m     36\u001b[0m \u001b[38;5;28;01mfinally\u001b[39;00m:\n\u001b[1;32m     37\u001b[0m     \u001b[38;5;28;01mif\u001b[39;00m \u001b[38;5;129;01mnot\u001b[39;00m task\u001b[38;5;241m.\u001b[39mdone():\n",
      "File \u001b[0;32m/home/projects/bots/bots_venv/lib/python3.10/site-packages/nest_asyncio.py:90\u001b[0m, in \u001b[0;36m_patch_loop.<locals>.run_until_complete\u001b[0;34m(self, future)\u001b[0m\n\u001b[1;32m     87\u001b[0m \u001b[38;5;28;01mif\u001b[39;00m \u001b[38;5;129;01mnot\u001b[39;00m f\u001b[38;5;241m.\u001b[39mdone():\n\u001b[1;32m     88\u001b[0m     \u001b[38;5;28;01mraise\u001b[39;00m \u001b[38;5;167;01mRuntimeError\u001b[39;00m(\n\u001b[1;32m     89\u001b[0m         \u001b[38;5;124m'\u001b[39m\u001b[38;5;124mEvent loop stopped before Future completed.\u001b[39m\u001b[38;5;124m'\u001b[39m)\n\u001b[0;32m---> 90\u001b[0m \u001b[38;5;28;01mreturn\u001b[39;00m \u001b[43mf\u001b[49m\u001b[38;5;241;43m.\u001b[39;49m\u001b[43mresult\u001b[49m\u001b[43m(\u001b[49m\u001b[43m)\u001b[49m\n",
      "File \u001b[0;32m/usr/lib/python3.10/asyncio/futures.py:201\u001b[0m, in \u001b[0;36mFuture.result\u001b[0;34m(self)\u001b[0m\n\u001b[1;32m    199\u001b[0m \u001b[38;5;28mself\u001b[39m\u001b[38;5;241m.\u001b[39m__log_traceback \u001b[38;5;241m=\u001b[39m \u001b[38;5;28;01mFalse\u001b[39;00m\n\u001b[1;32m    200\u001b[0m \u001b[38;5;28;01mif\u001b[39;00m \u001b[38;5;28mself\u001b[39m\u001b[38;5;241m.\u001b[39m_exception \u001b[38;5;129;01mis\u001b[39;00m \u001b[38;5;129;01mnot\u001b[39;00m \u001b[38;5;28;01mNone\u001b[39;00m:\n\u001b[0;32m--> 201\u001b[0m     \u001b[38;5;28;01mraise\u001b[39;00m \u001b[38;5;28mself\u001b[39m\u001b[38;5;241m.\u001b[39m_exception\u001b[38;5;241m.\u001b[39mwith_traceback(\u001b[38;5;28mself\u001b[39m\u001b[38;5;241m.\u001b[39m_exception_tb)\n\u001b[1;32m    202\u001b[0m \u001b[38;5;28;01mreturn\u001b[39;00m \u001b[38;5;28mself\u001b[39m\u001b[38;5;241m.\u001b[39m_result\n",
      "File \u001b[0;32m/usr/lib/python3.10/asyncio/tasks.py:232\u001b[0m, in \u001b[0;36mTask.__step\u001b[0;34m(***failed resolving arguments***)\u001b[0m\n\u001b[1;32m    228\u001b[0m \u001b[38;5;28;01mtry\u001b[39;00m:\n\u001b[1;32m    229\u001b[0m     \u001b[38;5;28;01mif\u001b[39;00m exc \u001b[38;5;129;01mis\u001b[39;00m \u001b[38;5;28;01mNone\u001b[39;00m:\n\u001b[1;32m    230\u001b[0m         \u001b[38;5;66;03m# We use the `send` method directly, because coroutines\u001b[39;00m\n\u001b[1;32m    231\u001b[0m         \u001b[38;5;66;03m# don't have `__iter__` and `__next__` methods.\u001b[39;00m\n\u001b[0;32m--> 232\u001b[0m         result \u001b[38;5;241m=\u001b[39m \u001b[43mcoro\u001b[49m\u001b[38;5;241;43m.\u001b[39;49m\u001b[43msend\u001b[49m\u001b[43m(\u001b[49m\u001b[38;5;28;43;01mNone\u001b[39;49;00m\u001b[43m)\u001b[49m\n\u001b[1;32m    233\u001b[0m     \u001b[38;5;28;01melse\u001b[39;00m:\n\u001b[1;32m    234\u001b[0m         result \u001b[38;5;241m=\u001b[39m coro\u001b[38;5;241m.\u001b[39mthrow(exc)\n",
      "Cell \u001b[0;32mIn[17], line 5\u001b[0m, in \u001b[0;36mget_results\u001b[0;34m()\u001b[0m\n\u001b[1;32m      3\u001b[0m \u001b[38;5;28;01masync\u001b[39;00m \u001b[38;5;28;01mdef\u001b[39;00m \u001b[38;5;21mget_results\u001b[39m():\n\u001b[1;32m      4\u001b[0m     resultado1 \u001b[38;5;241m=\u001b[39m \u001b[38;5;28;01mawait\u001b[39;00m suma(\u001b[38;5;241m2\u001b[39m,\u001b[38;5;241m3\u001b[39m)\n\u001b[0;32m----> 5\u001b[0m     resultado2 \u001b[38;5;241m=\u001b[39m \u001b[38;5;28;01mawait\u001b[39;00m \u001b[43msuma\u001b[49m\u001b[43m(\u001b[49m\u001b[38;5;241;43m5\u001b[39;49m\u001b[38;5;241;43m+\u001b[39;49m\u001b[38;5;241;43m4\u001b[39;49m\u001b[43m)\u001b[49m\n\u001b[1;32m      7\u001b[0m     \u001b[38;5;28mprint\u001b[39m(\u001b[38;5;124m\"\u001b[39m\u001b[38;5;124mResultados \u001b[39m\u001b[38;5;132;01m%s\u001b[39;00m\u001b[38;5;124m, \u001b[39m\u001b[38;5;132;01m%s\u001b[39;00m\u001b[38;5;124m\"\u001b[39m\u001b[38;5;241m%\u001b[39m(resultado1, resultado2))\n\u001b[1;32m      9\u001b[0m     loop\u001b[38;5;241m.\u001b[39mstop()\n",
      "\u001b[0;31mTypeError\u001b[0m: suma() missing 1 required positional argument: 'y'"
     ]
    }
   ],
   "source": [
    "asyncio.run(get_results())"
   ]
  },
  {
   "cell_type": "code",
   "execution_count": null,
   "id": "04d6561f",
   "metadata": {},
   "outputs": [],
   "source": []
  }
 ],
 "metadata": {
  "kernelspec": {
   "display_name": "Python 3 (ipykernel)",
   "language": "python",
   "name": "python3"
  },
  "language_info": {
   "codemirror_mode": {
    "name": "ipython",
    "version": 3
   },
   "file_extension": ".py",
   "mimetype": "text/x-python",
   "name": "python",
   "nbconvert_exporter": "python",
   "pygments_lexer": "ipython3",
   "version": "3.10.7"
  }
 },
 "nbformat": 4,
 "nbformat_minor": 5
}
