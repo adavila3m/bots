{
 "cells": [
  {
   "cell_type": "code",
   "execution_count": 9,
   "id": "669870d8",
   "metadata": {},
   "outputs": [],
   "source": [
    "def add(a, b):\n",
    "    return a + b"
   ]
  },
  {
   "cell_type": "code",
   "execution_count": 7,
   "id": "9b73a393",
   "metadata": {},
   "outputs": [
    {
     "name": "stdout",
     "output_type": "stream",
     "text": [
      "7\n"
     ]
    }
   ],
   "source": [
    "print(add(2,5))"
   ]
  },
  {
   "cell_type": "code",
   "execution_count": 27,
   "id": "5187ba0b",
   "metadata": {},
   "outputs": [],
   "source": [
    "#funcion que devuelve el triple del valor que se pasa como parametro\n",
    "def suma(x,y):\n",
    "    return x + y\n",
    "\n",
    "def triple(x):\n",
    "    return x*3"
   ]
  },
  {
   "cell_type": "code",
   "execution_count": 24,
   "id": "be297029",
   "metadata": {},
   "outputs": [],
   "source": [
    "#map() aplica una funcion a cada elemento de un iterable\n",
    "\n",
    "numbers = [10, 15, 21, 33, 42, 55]\n",
    "numbers2 = [40, 8, 4, 398, 500]"
   ]
  },
  {
   "cell_type": "code",
   "execution_count": 28,
   "id": "f8b1ea57",
   "metadata": {},
   "outputs": [
    {
     "data": {
      "text/plain": [
       "[50, 23, 25, 431, 542]"
      ]
     },
     "execution_count": 28,
     "metadata": {},
     "output_type": "execute_result"
    }
   ],
   "source": [
    "list(map(suma, numbers, numbers2))"
   ]
  },
  {
   "cell_type": "code",
   "execution_count": 30,
   "id": "7f45dee1",
   "metadata": {},
   "outputs": [
    {
     "data": {
      "text/plain": [
       "[30, 45, 63, 99, 126, 165]"
      ]
     },
     "execution_count": 30,
     "metadata": {},
     "output_type": "execute_result"
    }
   ],
   "source": [
    "#Funcion lammda\n",
    "list(map(lambda x: x*3, numbers))"
   ]
  },
  {
   "cell_type": "code",
   "execution_count": 32,
   "id": "19ada35d",
   "metadata": {},
   "outputs": [
    {
     "data": {
      "text/plain": [
       "[50, 23, 25, 431, 542]"
      ]
     },
     "execution_count": 32,
     "metadata": {},
     "output_type": "execute_result"
    }
   ],
   "source": [
    "list(map(lambda x,y: x+y, numbers, numbers2))"
   ]
  },
  {
   "cell_type": "code",
   "execution_count": 33,
   "id": "ef9f8516",
   "metadata": {},
   "outputs": [],
   "source": [
    "#Devolver una funcion lambda\n",
    "\n",
    "def multiplicar_por(n):\n",
    "    return lambda x: x*n"
   ]
  },
  {
   "cell_type": "code",
   "execution_count": 38,
   "id": "fc041d66",
   "metadata": {},
   "outputs": [],
   "source": [
    "duplicar = multiplicar_por(856)"
   ]
  },
  {
   "cell_type": "code",
   "execution_count": 39,
   "id": "0f82855b",
   "metadata": {},
   "outputs": [
    {
     "data": {
      "text/plain": [
       "11984"
      ]
     },
     "execution_count": 39,
     "metadata": {},
     "output_type": "execute_result"
    }
   ],
   "source": [
    "duplicar(14)"
   ]
  },
  {
   "cell_type": "code",
   "execution_count": null,
   "id": "151a383a",
   "metadata": {},
   "outputs": [],
   "source": []
  }
 ],
 "metadata": {
  "kernelspec": {
   "display_name": "Python 3 (ipykernel)",
   "language": "python",
   "name": "python3"
  },
  "language_info": {
   "codemirror_mode": {
    "name": "ipython",
    "version": 3
   },
   "file_extension": ".py",
   "mimetype": "text/x-python",
   "name": "python",
   "nbconvert_exporter": "python",
   "pygments_lexer": "ipython3",
   "version": "3.10.7"
  }
 },
 "nbformat": 4,
 "nbformat_minor": 5
}
